{
 "cells": [
  {
   "cell_type": "markdown",
   "metadata": {
    "dc": {
     "key": "3"
    },
    "deletable": false,
    "editable": false,
    "run_control": {
     "frozen": true
    },
    "tags": [
     "context"
    ]
   },
   "source": [
    "## # Introduction\n",
    "<p><img src=\"https://assets.datacamp.com/production/project_981/img/lego_unsplash.jpg\" alt=\"A picture of Lego characters!\"></p>\n",
    "<h3 id=\"letslookatlegosets\">Let's look at Lego sets!</h3>\n",
    "<p>Lego is a household name across the world, supported by a diverse toy line, hit movies, and a series of successful video games. In this project, we are going to explore a key development in the history of Lego: the introduction of licensed sets such as Star Wars, Super Heroes, and Harry Potter.</p>\n",
    "<p>It may not be widely known, but Lego has had its share of ups and downs since its inception in the early 20th century. This includes a particularly rough period in the late 90s. As described in <a href=\"https://www.businessinsider.com/how-lego-made-a-huge-turnaround-2014-2?r=US&IR=T\">this article</a>, Lego was only able to survive due to a successful internal brand (Bionicle) and the introduction of its first licensed series: Star Wars. In the instructions panel are the two questions you will need to answer to complete this project.</p>\n",
    "<p>Before diving into our analysis though, let's become familiar with the two datasets that will help you with this project:<br><br></p>\n",
    "<div style=\"background-color: #ebf4f7; color: #595959; text-align:left; vertical-align: middle; padding: 15px 25px 15px 25px; line-height: 1.6;\">\n",
    "    <div style=\"font-size:20px\"><b>datasets/lego_sets.csv</b></div>\n",
    "<ul>\n",
    "    <li><b>set_num:</b> A code that is unique to each set in the dataset. <b><i>This column is critical, and a missing value indicates the set is a duplicate or invalid!</i></b></li>\n",
    "    <li><b>set_name:</b> A name for every set in the dataset (note that this can be the same for different sets).</li>\n",
    "    <li><b>year:</b> The date the set was released.</li>\n",
    "    <li><b>num_parts:</b> The number of parts contained in the set.<b><i> This column is not central to our analyses, so missing values are acceptable.</i></b></li>\n",
    "        <li><b>theme_name:</b> The name of the sub-theme of the set.</li>\n",
    "    <li><b>parent_theme:</b> The name of the parent theme the set belongs to. Matches the `name` column of the `parent_themes` csv file.</li>\n",
    "</ul>\n",
    "\n",
    "<div style=\"font-size:20px\"><b>datasets/parent_themes.csv</b></div>\n",
    "<ul>\n",
    "    <li><b>id:</b> A code that is unique to every theme.</li>\n",
    "    <li><b>name:</b> The name of the parent theme.</li>\n",
    "    <li><b>is_licensed:</b> A Boolean column specifying whether the theme is a licensed theme.</li>\n",
    "</ul>\n",
    "    </div>\n",
    "<p>From here on out, it will be your task to explore and manipulate the existing data until you are able to answer the two questions described in the instructions panel. Feel free to add as many cells as necessary. Finally, remember that you are only tested on your answer, not on the methods you use to arrive at the answer!</p>\n",
    "<p><em><strong>Note:</strong> If you haven't completed a DataCamp project before you should check out the <a href=\"https://projects.datacamp.com/projects/33\">Intro to Projects</a> first to learn about the interface. In this project, you also need to know your way around <code>pandas</code> DataFrames and it's recommended that you take a look at the course <a href=\"https://www.datacamp.com/courses/data-manipulation-with-pandas\">Data Manipulation with pandas</a>.</em></p>"
   ]
  },
  {
   "cell_type": "code",
   "execution_count": 13,
   "metadata": {
    "dc": {
     "key": "3"
    },
    "tags": [
     "sample_code"
    ]
   },
   "outputs": [],
   "source": [
    "\n",
    "#Import the necessary packages\n",
    "import numpy as np\n",
    "import pandas as pd\n",
    "import matplotlib.pyplot as plt\n",
    "\n",
    "#Read both datasets into pandas Dataframes \n",
    "file = 'datasets/lego_sets.csv'\n",
    "df = pd.read_csv(file)\n",
    "\n",
    "file2 = 'datasets/parent_themes.csv'\n",
    "df2 = pd.read_csv(file2)"
   ]
  },
  {
   "cell_type": "code",
   "execution_count": 14,
   "metadata": {
    "dc": {
     "key": "3"
    }
   },
   "outputs": [
    {
     "name": "stdout",
     "output_type": "stream",
     "text": [
      "52.0\n"
     ]
    }
   ],
   "source": [
    "#Create a dataframe for licensed themes\n",
    "licensed_themes = df2[df2['is_licensed'] == True]\n",
    "\n",
    "#Filter the legosets Dataframe usimg the dataframe for licensed themes\n",
    "licensed_sets = df['parent_theme'].isin(licensed_themes['name'])\n",
    "license_df = df[licensed_sets]\n",
    "\n",
    "#Clean out the rows in the legosets dataframe with missing values in the set_num column\n",
    "license_df_clean = license_df[~license_df['set_num'].isna()]\n",
    "\n",
    "#Get the lenght of the filtered dataframe\n",
    "lenght_all = len(license_df_clean['parent_theme'])\n",
    "\n",
    "#Get the lenght of the filtered dataframe for Star Wars themed sets\n",
    "lenght_starwars = len(license_df_clean[license_df_clean['parent_theme'] == 'Star Wars'])\n",
    "\n",
    "#Calculate the percentage of licensed sets that were Star Wars themed; the_force\n",
    "the_force = round(lenght_starwars*100/lenght_all, 0)\n",
    "print(the_force)"
   ]
  },
  {
   "cell_type": "code",
   "execution_count": 36,
   "metadata": {},
   "outputs": [
    {
     "name": "stdout",
     "output_type": "stream",
     "text": [
      "2017\n"
     ]
    }
   ],
   "source": [
    "#Group the cleaned dataset by the 'year' and 'parent_theme' columns getting the count of appearances of each theme per year\n",
    "grouped = pd.DataFrame(license_df_clean.groupby(['year', 'parent_theme'])['parent_theme'].agg(len))\n",
    "grouped.rename(columns={'parent_theme':'count'}, inplace=True )\n",
    "grouped.reset_index(inplace=True, level=1)\n",
    "\n",
    "#Create a pivot table from the grouped dataframe for the number of times each theme appears per year; table\n",
    "table = grouped.pivot_table(index=grouped.index, columns='parent_theme', values='count',fill_value=0)\n",
    "\n",
    "#Get the name of the columns that have the maximum number of appearances per year; max_occur_year\n",
    "max_occur_year = pd.DataFrame(table.idxmax(axis=1))\n",
    "max_occur_year.reset_index(inplace=True)\n",
    "max_occur_year.rename(columns={0:'theme'}, inplace=True )\n",
    "\n",
    "#Filter through max_occur_year to get the value in the 'year' column where theme isn't 'Star Wars'; value\n",
    "value = max_occur_year[max_occur_year['theme'] != 'Star Wars']['year'].values[0]\n",
    "\n",
    "#Convert the type to int and and assign it to new_era\n",
    "new_era = int(value)\n",
    "print(new_era)"
   ]
  }
 ],
 "metadata": {
  "kernelspec": {
   "display_name": "Python 3 (ipykernel)",
   "language": "python",
   "name": "python3"
  },
  "language_info": {
   "codemirror_mode": {
    "name": "ipython",
    "version": 3
   },
   "file_extension": ".py",
   "mimetype": "text/x-python",
   "name": "python",
   "nbconvert_exporter": "python",
   "pygments_lexer": "ipython3",
   "version": "3.9.7"
  }
 },
 "nbformat": 4,
 "nbformat_minor": 4
}
